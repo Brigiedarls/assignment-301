{
 "cells": [
  {
   "cell_type": "code",
   "execution_count": 104,
   "id": "bd61e6f1",
   "metadata": {},
   "outputs": [
    {
     "name": "stdout",
     "output_type": "stream",
     "text": [
      "radius of the circle\n",
      "3\n",
      "the area of the circle 28.278\n"
     ]
    }
   ],
   "source": [
    "# a program which accepts the radius of a circle from the user and compute the area\n",
    "\n",
    "radius = float(input('radius of the circle\\n'))         \n",
    "area = 3.142 * radius * radius\n",
    "print('the area of the circle',area)\n"
   ]
  },
  {
   "cell_type": "code",
   "execution_count": 115,
   "id": "c392fafd",
   "metadata": {},
   "outputs": [
    {
     "name": "stdout",
     "output_type": "stream",
     "text": [
      "enter value of side1:4\n",
      "enter value of side2:5\n",
      "enter value of side3:6\n",
      "area of triangle 98.4375\n"
     ]
    }
   ],
   "source": [
    "# a program that will accept the base and height of a triangle and compute the area\n",
    "#a triangle has thre sides\n",
    "\n",
    "a =float(input('enter value of side1:'))\n",
    "b =float(input('enter value of side2:'))\n",
    "c =float(input('enter value of side3:'))\n",
    "semi =(a + b+ c)/2\n",
    "area= semi *(semi-a) *(semi-b)*(semi-c)\n",
    "print('area of triangle',area)"
   ]
  },
  {
   "cell_type": "code",
   "execution_count": 119,
   "id": "6f61048e",
   "metadata": {},
   "outputs": [
    {
     "name": "stdout",
     "output_type": "stream",
     "text": [
      "natural numbers\n",
      "3\n",
      "1\n",
      "2\n",
      "3\n"
     ]
    }
   ],
   "source": [
    "#Write a program to print the first natural numbers using while loop\n",
    "\n",
    "n =int(input('natural numbers\\n'))\n",
    "i = 1\n",
    "while i <= n:\n",
    "    print (i)\n",
    "    i = i +1\n"
   ]
  },
  {
   "cell_type": "code",
   "execution_count": 130,
   "id": "5c469684",
   "metadata": {},
   "outputs": [
    {
     "name": "stdout",
     "output_type": "stream",
     "text": [
      "find the sum of first 100 numbers using loop\n",
      "1 iteration sum is 1\n",
      "2 iteration sum is 2\n",
      "3 iteration sum is 3\n",
      "4 iteration sum is 4\n",
      "5 iteration sum is 5\n",
      "6 iteration sum is 6\n",
      "7 iteration sum is 7\n",
      "8 iteration sum is 8\n",
      "9 iteration sum is 9\n",
      "10 iteration sum is 10\n",
      "11 iteration sum is 11\n",
      "12 iteration sum is 12\n",
      "13 iteration sum is 13\n",
      "14 iteration sum is 14\n",
      "15 iteration sum is 15\n",
      "16 iteration sum is 16\n",
      "17 iteration sum is 17\n",
      "18 iteration sum is 18\n",
      "19 iteration sum is 19\n",
      "20 iteration sum is 20\n",
      "21 iteration sum is 21\n",
      "22 iteration sum is 22\n",
      "23 iteration sum is 23\n",
      "24 iteration sum is 24\n",
      "25 iteration sum is 25\n",
      "26 iteration sum is 26\n",
      "27 iteration sum is 27\n",
      "28 iteration sum is 28\n",
      "29 iteration sum is 29\n",
      "30 iteration sum is 30\n",
      "31 iteration sum is 31\n",
      "32 iteration sum is 32\n",
      "33 iteration sum is 33\n",
      "34 iteration sum is 34\n",
      "35 iteration sum is 35\n",
      "36 iteration sum is 36\n",
      "37 iteration sum is 37\n",
      "38 iteration sum is 38\n",
      "39 iteration sum is 39\n",
      "40 iteration sum is 40\n",
      "41 iteration sum is 41\n",
      "42 iteration sum is 42\n",
      "43 iteration sum is 43\n",
      "44 iteration sum is 44\n",
      "45 iteration sum is 45\n",
      "46 iteration sum is 46\n",
      "47 iteration sum is 47\n",
      "48 iteration sum is 48\n",
      "49 iteration sum is 49\n",
      "50 iteration sum is 50\n",
      "51 iteration sum is 51\n",
      "52 iteration sum is 52\n",
      "53 iteration sum is 53\n",
      "54 iteration sum is 54\n",
      "55 iteration sum is 55\n",
      "56 iteration sum is 56\n",
      "57 iteration sum is 57\n",
      "58 iteration sum is 58\n",
      "59 iteration sum is 59\n",
      "60 iteration sum is 60\n",
      "61 iteration sum is 61\n",
      "62 iteration sum is 62\n",
      "63 iteration sum is 63\n",
      "64 iteration sum is 64\n",
      "65 iteration sum is 65\n",
      "66 iteration sum is 66\n",
      "67 iteration sum is 67\n",
      "68 iteration sum is 68\n",
      "69 iteration sum is 69\n",
      "70 iteration sum is 70\n",
      "71 iteration sum is 71\n",
      "72 iteration sum is 72\n",
      "73 iteration sum is 73\n",
      "74 iteration sum is 74\n",
      "75 iteration sum is 75\n",
      "76 iteration sum is 76\n",
      "77 iteration sum is 77\n",
      "78 iteration sum is 78\n",
      "79 iteration sum is 79\n",
      "80 iteration sum is 80\n",
      "81 iteration sum is 81\n",
      "82 iteration sum is 82\n",
      "83 iteration sum is 83\n",
      "84 iteration sum is 84\n",
      "85 iteration sum is 85\n",
      "86 iteration sum is 86\n",
      "87 iteration sum is 87\n",
      "88 iteration sum is 88\n",
      "89 iteration sum is 89\n",
      "90 iteration sum is 90\n",
      "91 iteration sum is 91\n",
      "92 iteration sum is 92\n",
      "93 iteration sum is 93\n",
      "94 iteration sum is 94\n",
      "95 iteration sum is 95\n",
      "96 iteration sum is 96\n",
      "97 iteration sum is 97\n",
      "98 iteration sum is 98\n",
      "99 iteration sum is 99\n",
      "100 iteration sum is 100\n"
     ]
    }
   ],
   "source": [
    "#a program to find the sum of 100 numbers using loop\n",
    "\n",
    "print('find the sum of first 100 numbers using loop')\n",
    "i = 1\n",
    "sum = 0\n",
    "while i <= 100:\n",
    "    sum = sum +1\n",
    "    print (i,'iteration sum is',sum)\n",
    "    i = i + 1\n",
    "    "
   ]
  },
  {
   "cell_type": "code",
   "execution_count": 72,
   "id": "526f55f9",
   "metadata": {},
   "outputs": [
    {
     "name": "stdout",
     "output_type": "stream",
     "text": [
      "9\n"
     ]
    }
   ],
   "source": [
    "\n",
    "#a program to calculate the sum of three inputted numbers, if the values are equal, then return the three to the sum\n",
    "def sum_thrice(x,y,z):\n",
    "    sum = x + y + z\n",
    "    \n",
    "    if x == y == z:\n",
    "        sum = sum * 3\n",
    "        return sum\n",
    "    \n",
    "print(sum_thrice(1,1,1))\n",
    "        "
   ]
  },
  {
   "cell_type": "code",
   "execution_count": 88,
   "id": "f3b4b982",
   "metadata": {},
   "outputs": [],
   "source": [
    "n  = 0z\n",
    "while n > 1:\n",
    "    print (n)\n",
    "n = n+1"
   ]
  },
  {
   "cell_type": "code",
   "execution_count": null,
   "id": "cd9cd7ec",
   "metadata": {},
   "outputs": [],
   "source": []
  }
 ],
 "metadata": {
  "kernelspec": {
   "display_name": "Python 3 (ipykernel)",
   "language": "python",
   "name": "python3"
  },
  "language_info": {
   "codemirror_mode": {
    "name": "ipython",
    "version": 3
   },
   "file_extension": ".py",
   "mimetype": "text/x-python",
   "name": "python",
   "nbconvert_exporter": "python",
   "pygments_lexer": "ipython3",
   "version": "3.9.7"
  }
 },
 "nbformat": 4,
 "nbformat_minor": 5
}
